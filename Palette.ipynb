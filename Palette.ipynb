{
  "nbformat": 4,
  "nbformat_minor": 0,
  "metadata": {
    "colab": {
      "name": "Palette.ipynb",
      "provenance": [],
      "machine_shape": "hm",
      "background_execution": "on",
      "authorship_tag": "ABX9TyNKIqOKQFqY1vomKltXx7La",
      "include_colab_link": true
    },
    "kernelspec": {
      "name": "python3",
      "display_name": "Python 3"
    },
    "language_info": {
      "name": "python"
    },
    "accelerator": "TPU",
    "gpuClass": "standard"
  },
  "cells": [
    {
      "cell_type": "markdown",
      "metadata": {
        "id": "view-in-github",
        "colab_type": "text"
      },
      "source": [
        "<a href=\"https://colab.research.google.com/github/hpn-nina/simple-image-application/blob/master/Palette.ipynb\" target=\"_parent\"><img src=\"https://colab.research.google.com/assets/colab-badge.svg\" alt=\"Open In Colab\"/></a>"
      ]
    },
    {
      "cell_type": "markdown",
      "source": [
        "# Introduction\n",
        "Problem: Image Colorization.\\\n",
        "Github link: .\\\n",
        "Dataset link: https://www.kaggle.com/datasets/shravankumar9892/image-colorization?resource=download .\\\n",
        "\n",
        "Model:\n",
        "\n",
        "Summary:  \n",
        "\n",
        "What is in this notebook:\n",
        "\n",
        "Tutorial to recreate: \n",
        "- Download the dataset from the link and put it in folder \"/Palette/zip_files\" on Google Drive\n",
        "- Clone the code"
      ],
      "metadata": {
        "id": "r_m2yG7EJXyI"
      }
    },
    {
      "cell_type": "markdown",
      "source": [
        "## DEFINE "
      ],
      "metadata": {
        "id": "TXjkt-kMJUIL"
      }
    },
    {
      "cell_type": "code",
      "source": [
        "# LIBRARY import\n",
        "import os\n",
        "import matplotlib.pyplot as plt\n",
        "import numpy as np\n",
        "import PIL\n",
        "import torch\n",
        "from google.colab import drive"
      ],
      "metadata": {
        "id": "KiPThP7JH4QL"
      },
      "execution_count": 2,
      "outputs": []
    },
    {
      "cell_type": "code",
      "source": [
        "# Import from code\n",
        "from src.helpers import views_npy_image"
      ],
      "metadata": {
        "id": "0IZs3fHuK0CA"
      },
      "execution_count": null,
      "outputs": []
    },
    {
      "cell_type": "code",
      "source": [
        "# DEFINE SOME PATH\n",
        "DATASET_PATH = \"/zip_files\"\n",
        "DATASET_GRAYSCALE_PATH = \"/zip_files/I\"\n",
        "file_name = \"grayscale.npy\"\n",
        "DRIVE_PATH = \"/drive\"\n",
        "PALETTE_PATH = \"/drive/MyDrive/Palette\"\n",
        "PALETTE_DATASET_PATH = \"/drive/MyDrive/Palette/zip_files\"\n",
        "COLOR_PATH = PALETTE_PATH + \"/color\"\n",
        "GRAYSACLE_PATH = PALETTE_PATH + \"/grayscale\""
      ],
      "metadata": {
        "id": "AYpoXIUwHwQF"
      },
      "execution_count": 4,
      "outputs": []
    },
    {
      "cell_type": "code",
      "source": [
        "# Mount drive\n",
        "drive.mount(DRIVE_PATH, force_remount=True)"
      ],
      "metadata": {
        "colab": {
          "base_uri": "https://localhost:8080/"
        },
        "id": "4jpa9f4RJ_QB",
        "outputId": "921243b2-91b5-4d12-ed77-ecc173a8662d"
      },
      "execution_count": 3,
      "outputs": [
        {
          "output_type": "stream",
          "name": "stdout",
          "text": [
            "Mounted at /drive\n"
          ]
        }
      ]
    },
    {
      "cell_type": "markdown",
      "source": [
        "## DEMO READ IMAGE"
      ],
      "metadata": {
        "id": "DyXyAjrbJQEY"
      }
    },
    {
      "cell_type": "code",
      "execution_count": null,
      "metadata": {
        "id": "bjbYuWWxD01w"
      },
      "outputs": [],
      "source": [
        "# READ AN IMAGE FOR SAMPLE\n",
        "file_path = os.path.join(DATASET_GRAYSCALE_PATH, file_name)\n",
        "data = np.load(file_path)"
      ]
    },
    {
      "cell_type": "code",
      "source": [
        "# Run the main python script to train model\n",
        "!python main.py --config conf.yml"
      ],
      "metadata": {
        "id": "mCubHgxpHgqb"
      },
      "execution_count": null,
      "outputs": []
    }
  ]
}